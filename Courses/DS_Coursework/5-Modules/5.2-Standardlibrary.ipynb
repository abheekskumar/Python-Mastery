{
 "cells": [
  {
   "cell_type": "markdown",
   "metadata": {},
   "source": [
    "##### Standard Library Overview\n",
    "Python's Standard Library is a vast collection of modules and packages that come bundled with Python, providing a wide range of functionalities out of the box. Here's an overview of some of the most commonly used modules and packages in the Python Standard Library."
   ]
  },
  {
   "cell_type": "code",
   "execution_count": 3,
   "metadata": {},
   "outputs": [
    {
     "name": "stdout",
     "output_type": "stream",
     "text": [
      "[1, 2, 3, 4, 5, 6] <class 'array.array'>\n"
     ]
    }
   ],
   "source": [
    "import array\n",
    "\n",
    "arr = array.array(\"i\",[1,2,3,4,5,6])\n",
    "print(list(arr), type(arr))"
   ]
  },
  {
   "cell_type": "code",
   "execution_count": null,
   "metadata": {},
   "outputs": [
    {
     "name": "stdout",
     "output_type": "stream",
     "text": [
      "4.0\n",
      "3.141592653589793\n"
     ]
    }
   ],
   "source": [
    "import math \n",
    "\n",
    "math.pi"
   ]
  },
  {
   "cell_type": "code",
   "execution_count": null,
   "metadata": {},
   "outputs": [
    {
     "name": "stdout",
     "output_type": "stream",
     "text": [
      "2\n",
      "cherry\n"
     ]
    }
   ],
   "source": []
  },
  {
   "cell_type": "code",
   "execution_count": null,
   "metadata": {},
   "outputs": [
    {
     "name": "stdout",
     "output_type": "stream",
     "text": [
      "d:\\dev\\Python\\DataScience_Course\\codespace\\5-Modules\n"
     ]
    },
    {
     "ename": "TypeError",
     "evalue": "chmod() missing required argument 'mode' (pos 2)",
     "output_type": "error",
     "traceback": [
      "\u001b[31m---------------------------------------------------------------------------\u001b[39m",
      "\u001b[31mTypeError\u001b[39m                                 Traceback (most recent call last)",
      "\u001b[36mCell\u001b[39m\u001b[36m \u001b[39m\u001b[32mIn[7]\u001b[39m\u001b[32m, line 6\u001b[39m\n\u001b[32m      3\u001b[39m \u001b[38;5;28mprint\u001b[39m(os.getcwd())\n\u001b[32m      4\u001b[39m \u001b[38;5;66;03m# os.mkdir(\"test_dir\")\u001b[39;00m\n\u001b[32m----> \u001b[39m\u001b[32m6\u001b[39m \u001b[43mos\u001b[49m\u001b[43m.\u001b[49m\u001b[43mchmod\u001b[49m\u001b[43m(\u001b[49m\u001b[33;43m\"\u001b[39;49m\u001b[33;43mtest.txt\u001b[39;49m\u001b[33;43m\"\u001b[39;49m\u001b[43m)\u001b[49m\n",
      "\u001b[31mTypeError\u001b[39m: chmod() missing required argument 'mode' (pos 2)"
     ]
    }
   ],
   "source": [
    "# File directory access\n",
    "import os\n",
    "print(os.getcwd())\n",
    "# os.mkdir(\"test_dir\")\n",
    "\n",
    "# os.chmod(\"test.txt\")"
   ]
  },
  {
   "cell_type": "code",
   "execution_count": 8,
   "metadata": {},
   "outputs": [
    {
     "data": {
      "text/plain": [
       "'to.txt'"
      ]
     },
     "execution_count": 8,
     "metadata": {},
     "output_type": "execute_result"
    }
   ],
   "source": [
    "# High level operation on files and collection of files\n",
    "import shutil\n",
    "\n",
    "shutil.copyfile(\"from.txt\",\"to.txt\")"
   ]
  },
  {
   "cell_type": "code",
   "execution_count": null,
   "metadata": {},
   "outputs": [
    {
     "name": "stdout",
     "output_type": "stream",
     "text": [
      "{\"name\": \"Abheek\", \"age\": 19} <class 'str'>\n",
      "{'name': 'Abheek', 'age': 19} <class 'dict'>\n"
     ]
    }
   ],
   "source": [
    "## data serialization\n",
    "import json\n",
    "\n",
    "data = {\"name\" : \"Abheek\", \"age\" : 19}\n",
    "# from python- json\n",
    "json_str = json.dumps(data)\n",
    "print(json_str,type(json_str))\n",
    "\n",
    "\n",
    "# from json - python\n",
    "# parsed data:\n",
    "data1 = json.loads(json_str)\n",
    "print(data1,type(data1))"
   ]
  },
  {
   "cell_type": "code",
   "execution_count": 16,
   "metadata": {},
   "outputs": [
    {
     "name": "stdout",
     "output_type": "stream",
     "text": [
      "['name', 'age']\n",
      "['Abheek', '19']\n"
     ]
    }
   ],
   "source": [
    "# csv\n",
    "import csv\n",
    "\n",
    "with open(\"example.csv\",\"w+\") as fh:\n",
    "    writer = csv.writer(fh)\n",
    "    writer.writerows([[\"name\",\"age\"],[\"Abheek\",19]])\n",
    "\n",
    "with open(\"example.csv\",\"r\",newline=\"\\n\") as fh:\n",
    "    reader = csv.reader(fh)\n",
    "    for row in reader:\n",
    "        print(row)\n",
    "\n",
    "    "
   ]
  },
  {
   "cell_type": "code",
   "execution_count": 21,
   "metadata": {},
   "outputs": [
    {
     "name": "stdout",
     "output_type": "stream",
     "text": [
      "2025-08-10 18:34:27.149604\n",
      "2025-08-09 18:34:27.149604\n"
     ]
    }
   ],
   "source": [
    "from datetime import datetime, timedelta\n",
    "\n",
    "now = datetime.now()\n",
    "print(now)\n",
    "\n",
    "yesterday = now - timedelta(minutes = 1440)\n",
    "\n",
    "print(yesterday)\n"
   ]
  },
  {
   "cell_type": "code",
   "execution_count": 22,
   "metadata": {},
   "outputs": [
    {
     "name": "stdout",
     "output_type": "stream",
     "text": [
      "1754876099.510915\n",
      "1754876101.5124843\n"
     ]
    }
   ],
   "source": [
    "# time\n",
    "import time\n",
    "\n",
    "print(time.time())\n",
    "time.sleep(2)\n",
    "print(time.time())"
   ]
  },
  {
   "cell_type": "code",
   "execution_count": null,
   "metadata": {},
   "outputs": [
    {
     "name": "stdout",
     "output_type": "stream",
     "text": [
      "134 <class 're.Match'>\n"
     ]
    }
   ],
   "source": [
    "# regular expression\n",
    "# used to find pattersn\n",
    "import re\n",
    "\n",
    "pattern = r\"\\d+\" # raw string most likely to accomodate the escape sequence\n",
    "# the d stands for \"digits\"\n",
    "text = \"There are 134 apples 456 here.\"# only prints 134 as the match is complete over there.\n",
    "match = re.search(pattern, text)\n",
    "print(match.group(),type(match))\n"
   ]
  },
  {
   "cell_type": "code",
   "execution_count": null,
   "metadata": {},
   "outputs": [
    {
     "name": "stdout",
     "output_type": "stream",
     "text": [
      "123\n"
     ]
    }
   ],
   "source": []
  },
  {
   "cell_type": "markdown",
   "metadata": {},
   "source": [
    "#### Conclusion\n",
    "Python's Standard Library is extensive and provides tools for almost any task you can think of, from file handling to web services, from data serialization to concurrent execution. Familiarizing yourself with the modules and packages available in the Standard Library can significantly enhance your ability to write efficient and effective Python programs."
   ]
  },
  {
   "cell_type": "code",
   "execution_count": null,
   "metadata": {},
   "outputs": [],
   "source": []
  }
 ],
 "metadata": {
  "kernelspec": {
   "display_name": "Python 3",
   "language": "python",
   "name": "python3"
  },
  "language_info": {
   "codemirror_mode": {
    "name": "ipython",
    "version": 3
   },
   "file_extension": ".py",
   "mimetype": "text/x-python",
   "name": "python",
   "nbconvert_exporter": "python",
   "pygments_lexer": "ipython3",
   "version": "3.12.0"
  }
 },
 "nbformat": 4,
 "nbformat_minor": 2
}
