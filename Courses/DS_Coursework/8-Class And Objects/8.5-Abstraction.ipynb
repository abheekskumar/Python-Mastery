{
 "cells": [
  {
   "cell_type": "markdown",
   "metadata": {},
   "source": [
    "#### Abstraction\n",
    "Abstraction is the concept of hiding the complex implementation details and showing only the necessary features of an object. This helps in reducing programming complexity and effort."
   ]
  },
  {
   "cell_type": "code",
   "execution_count": 1,
   "metadata": {},
   "outputs": [],
   "source": [
    "from abc import ABC, abstractmethod"
   ]
  },
  {
   "cell_type": "code",
   "execution_count": null,
   "metadata": {},
   "outputs": [
    {
     "ename": "TypeError",
     "evalue": "Can't instantiate abstract class Vehicle without an implementation for abstract method 'start_engine'",
     "output_type": "error",
     "traceback": [
      "\u001b[31m---------------------------------------------------------------------------\u001b[39m",
      "\u001b[31mTypeError\u001b[39m                                 Traceback (most recent call last)",
      "\u001b[36mCell\u001b[39m\u001b[36m \u001b[39m\u001b[32mIn[10]\u001b[39m\u001b[32m, line 9\u001b[39m\n\u001b[32m      6\u001b[39m     \u001b[38;5;129m@abstractmethod\u001b[39m \u001b[38;5;66;03m# this is basically used to tell base classes to implement this function on your own\u001b[39;00m\n\u001b[32m      7\u001b[39m     \u001b[38;5;28;01mdef\u001b[39;00m\u001b[38;5;250m \u001b[39m\u001b[34mstart_engine\u001b[39m(\u001b[38;5;28mself\u001b[39m):\n\u001b[32m      8\u001b[39m         \u001b[38;5;28;01mpass\u001b[39;00m \u001b[38;5;66;03m# no matter what is put in here, it throws an exception\u001b[39;00m\n\u001b[32m----> \u001b[39m\u001b[32m9\u001b[39m v1 = \u001b[43mVehicle\u001b[49m\u001b[43m(\u001b[49m\u001b[43m)\u001b[49m \u001b[38;5;66;03m# \u001b[39;00m\n\u001b[32m     11\u001b[39m \u001b[38;5;28;01mclass\u001b[39;00m\u001b[38;5;250m \u001b[39m\u001b[34;01mCar\u001b[39;00m(Vehicle):\n\u001b[32m     12\u001b[39m     \u001b[38;5;28;01mdef\u001b[39;00m\u001b[38;5;250m \u001b[39m\u001b[34mstart_engine\u001b[39m(\u001b[38;5;28mself\u001b[39m):\n",
      "\u001b[31mTypeError\u001b[39m: Can't instantiate abstract class Vehicle without an implementation for abstract method 'start_engine'"
     ]
    }
   ],
   "source": [
    "# Abstract base class\n",
    "class Vehicle(ABC):\n",
    "    def drive(self):\n",
    "        print(\"The Vehicle is used for driving.\")\n",
    "\n",
    "    @abstractmethod # this is basically used to tell base classes to implement this function on your own\n",
    "    def start_engine(self):\n",
    "        pass # no matter what is put in here, it throws an exception\n",
    "# v1 = Vehicle() # cannot make an instace of class with abstract method\n",
    "\n",
    "class Car(Vehicle):\n",
    "    def start_engine(self):\n",
    "        print(f\"Start engine for Car\")\n",
    "c1 = Car()\n",
    "\n",
    "class Bike(Vehicle):\n",
    "    def start_engine(self):\n",
    "        print(f\"Start engine for Bike.\")\n",
    "\n",
    "b1 = Bike()\n",
    "def operate_vehicle(vehicle):\n",
    "    vehicle.start_engine()\n",
    "# operate_vehicle(v1)\n",
    "operate_vehicle(c1)\n",
    "operate_vehicle(b1)"
   ]
  },
  {
   "cell_type": "code",
   "execution_count": null,
   "metadata": {},
   "outputs": [],
   "source": []
  },
  {
   "cell_type": "code",
   "execution_count": null,
   "metadata": {},
   "outputs": [],
   "source": []
  },
  {
   "cell_type": "code",
   "execution_count": null,
   "metadata": {},
   "outputs": [],
   "source": []
  },
  {
   "cell_type": "code",
   "execution_count": null,
   "metadata": {},
   "outputs": [],
   "source": []
  }
 ],
 "metadata": {
  "kernelspec": {
   "display_name": "Python 3",
   "language": "python",
   "name": "python3"
  },
  "language_info": {
   "codemirror_mode": {
    "name": "ipython",
    "version": 3
   },
   "file_extension": ".py",
   "mimetype": "text/x-python",
   "name": "python",
   "nbconvert_exporter": "python",
   "pygments_lexer": "ipython3",
   "version": "3.12.0"
  }
 },
 "nbformat": 4,
 "nbformat_minor": 2
}
