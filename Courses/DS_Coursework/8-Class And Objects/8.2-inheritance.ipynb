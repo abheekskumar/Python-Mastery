{
 "cells": [
  {
   "cell_type": "markdown",
   "metadata": {},
   "source": [
    "#### Inheritance In Python\n",
    "Inheritance is a fundamental concept in Object-Oriented Programming (OOP) that allows a class to inherit attributes and methods from another class. This lesson covers single inheritance and multiple inheritance, demonstrating how to create and use them in Python."
   ]
  },
  {
   "cell_type": "code",
   "execution_count": null,
   "metadata": {},
   "outputs": [
    {
     "name": "stdout",
     "output_type": "stream",
     "text": [
      "Drive from <class '__main__.Car'>\n"
     ]
    }
   ],
   "source": [
    "class Car:\n",
    "    def __init__(self,windows, doors,enginetype):\n",
    "        self._windows = windows\n",
    "        self._doors = doors\n",
    "        self._enginetype = enginetype\n",
    "\n",
    "    def drive(self):\n",
    "        print(f\"Drive from {self.__class__}\")\n",
    "\n",
    "c1 = Car(3,4,\"Petrol\")\n",
    "c1.drive()"
   ]
  },
  {
   "cell_type": "markdown",
   "metadata": {},
   "source": []
  },
  {
   "cell_type": "code",
   "execution_count": null,
   "metadata": {},
   "outputs": [],
   "source": [
    "class Tesla(Car):\n",
    "    def __init__(self,windows,doors,enginetype,model : str,FSD: bool):\n",
    "        Car.__init__(self,windows,doors,enginetype) # direct class initializer\n",
    "        super().__init__(windows,doors,enginetype) # MRO(Method Resolution Order) \n",
    "\n",
    "        self._model = model\n",
    "        self._FSD = FSD\n",
    "    def selfDriving(self):\n",
    "        print(f\"Tesla supports Self Driving:{self._FSD}.\")"
   ]
  },
  {
   "cell_type": "code",
   "execution_count": 9,
   "metadata": {},
   "outputs": [
    {
     "name": "stdout",
     "output_type": "stream",
     "text": [
      "Parth says woof.\n",
      "Abheek\n"
     ]
    }
   ],
   "source": [
    "# multiple inheritance\n",
    "# when a class inherits from more than one base class\n",
    "# base class 1\n",
    "class Animal:\n",
    "    def __init__(self,name):\n",
    "        self._name = name\n",
    "    def speak(self,string):\n",
    "        # print(f\"{self._name} says {string}.\")\n",
    "        print(f\"subclasses must implement this method.\")\n",
    "# base class 2\n",
    "class Pet:\n",
    "    def __init__(self,owner):\n",
    "        self._owner = owner\n",
    "\n",
    "\n",
    "# Derived class\n",
    "class Dog(Animal,Pet):\n",
    "    def __init__(self,name,owner):\n",
    "        Animal.__init__(self,name)\n",
    "        Pet.__init__(self,owner)\n",
    "    def speak(self):\n",
    "        return f\"{self._name} says woof.\"\n",
    "\n",
    "\n",
    "d1 = Dog(\"Parth\",\"Abheek\") \n",
    "print(d1.speak())\n",
    "print(d1._owner)"
   ]
  },
  {
   "cell_type": "code",
   "execution_count": null,
   "metadata": {},
   "outputs": [],
   "source": []
  },
  {
   "cell_type": "code",
   "execution_count": null,
   "metadata": {},
   "outputs": [],
   "source": []
  },
  {
   "cell_type": "code",
   "execution_count": null,
   "metadata": {},
   "outputs": [],
   "source": []
  },
  {
   "cell_type": "markdown",
   "metadata": {},
   "source": [
    "#### Conclusion\n",
    "Inheritance is a powerful feature in OOP that allows for code reuse and the creation of a more logical class structure. Single inheritance involves one base class, while multiple inheritance involves more than one base class. Understanding how to implement and use inheritance in Python will enable you to design more efficient and maintainable object-oriented programs."
   ]
  },
  {
   "cell_type": "code",
   "execution_count": null,
   "metadata": {},
   "outputs": [],
   "source": []
  },
  {
   "cell_type": "code",
   "execution_count": null,
   "metadata": {},
   "outputs": [],
   "source": []
  },
  {
   "cell_type": "code",
   "execution_count": null,
   "metadata": {},
   "outputs": [],
   "source": []
  },
  {
   "cell_type": "code",
   "execution_count": null,
   "metadata": {},
   "outputs": [],
   "source": []
  }
 ],
 "metadata": {
  "kernelspec": {
   "display_name": "Python 3",
   "language": "python",
   "name": "python3"
  },
  "language_info": {
   "codemirror_mode": {
    "name": "ipython",
    "version": 3
   },
   "file_extension": ".py",
   "mimetype": "text/x-python",
   "name": "python",
   "nbconvert_exporter": "python",
   "pygments_lexer": "ipython3",
   "version": "3.12.0"
  }
 },
 "nbformat": 4,
 "nbformat_minor": 2
}
