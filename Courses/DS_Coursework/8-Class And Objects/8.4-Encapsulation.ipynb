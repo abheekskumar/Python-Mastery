{
 "cells": [
  {
   "cell_type": "markdown",
   "metadata": {},
   "source": [
    "#### Encapsulation And Abstraction\n",
    "Encapsulation and abstraction are two fundamental principles of Object-Oriented Programming (OOP) that help in designing robust, maintainable, and reusable code. Encapsulation involves bundling data and methods that operate on the data within a single unit, while abstraction involves hiding complex implementation details and exposing only the necessary features."
   ]
  },
  {
   "cell_type": "markdown",
   "metadata": {},
   "source": [
    "##### Encapsulation\n",
    "Encapsulation is the concept of wrapping data (variables) and methods (functions) together as a single unit. It restricts direct access to some of the object's components, which is a means of preventing accidental interference and misuse of the data.\n"
   ]
  },
  {
   "cell_type": "code",
   "execution_count": 10,
   "metadata": {},
   "outputs": [
    {
     "name": "stdout",
     "output_type": "stream",
     "text": [
      "Abheek\n"
     ]
    }
   ],
   "source": [
    "# Access variables: Public, Protected, Private\n",
    "# AKA access modifiers\n",
    "# encapsulation implemented with getter and setter\n",
    "class Person:\n",
    "    def __init__(self,name,age):\n",
    "        self.name = name # public variables\n",
    "        self.age = age\n",
    "    # public vars can be used outside of this class\n",
    "    \n",
    "def get_name(Person):\n",
    "    return Person.name\n",
    "\n",
    "\n",
    "p1 = Person(\"Abheek\", 19)\n",
    "print(get_name(p1))"
   ]
  },
  {
   "cell_type": "code",
   "execution_count": null,
   "metadata": {},
   "outputs": [
    {
     "data": {
      "text/plain": [
       "['__class__',\n",
       " '__delattr__',\n",
       " '__dict__',\n",
       " '__dir__',\n",
       " '__doc__',\n",
       " '__eq__',\n",
       " '__format__',\n",
       " '__ge__',\n",
       " '__getattribute__',\n",
       " '__getstate__',\n",
       " '__gt__',\n",
       " '__hash__',\n",
       " '__init__',\n",
       " '__init_subclass__',\n",
       " '__le__',\n",
       " '__lt__',\n",
       " '__module__',\n",
       " '__ne__',\n",
       " '__new__',\n",
       " '__reduce__',\n",
       " '__reduce_ex__',\n",
       " '__repr__',\n",
       " '__setattr__',\n",
       " '__sizeof__',\n",
       " '__str__',\n",
       " '__subclasshook__',\n",
       " '__weakref__',\n",
       " 'age',\n",
       " 'name']"
      ]
     },
     "execution_count": 2,
     "metadata": {},
     "output_type": "execute_result"
    }
   ],
   "source": [
    "dir(p1) # to see all the attributes of an object"
   ]
  },
  {
   "cell_type": "code",
   "execution_count": null,
   "metadata": {},
   "outputs": [
    {
     "name": "stdout",
     "output_type": "stream",
     "text": [
      "Abheek\n",
      "['_Person2__age', '_Person2__name', '__class__', '__delattr__', '__dict__', '__dir__', '__doc__', '__eq__', '__format__', '__ge__', '__getattribute__', '__getstate__', '__gt__', '__hash__', '__init__', '__init_subclass__', '__le__', '__lt__', '__module__', '__ne__', '__new__', '__reduce__', '__reduce_ex__', '__repr__', '__setattr__', '__sizeof__', '__str__', '__subclasshook__', '__weakref__', 'gender', 'get_name']\n",
      "Abheek\n"
     ]
    }
   ],
   "source": [
    "class Person2:\n",
    "    def __init__(self,name,age,gender):\n",
    "        self.__name = name # relatively private it's mapped as _Person2_name\n",
    "        self.__age = age # private\n",
    "        self.gender = gender\n",
    "    def get_name(self):\n",
    "        print(self.__name) # this works \n",
    "\n",
    "\n",
    "def get_name2(person):\n",
    "    return person.__name\n",
    "def get_name3(person):\n",
    "    return person._Person2__name\n",
    "\n",
    "p2 = Person2(\"Abheek\",19,\"Male\")\n",
    "p2.get_name() # getter implemented through class accessing the __name works as expected.\n",
    "print(dir(p2)) \n",
    "\n",
    "print(get_name3(p2)) # can access through the actual mapping\n",
    "# print(get_name2(p2)) #  uses the superficial mapping, doesn't allow us to access it.\n"
   ]
  },
  {
   "cell_type": "code",
   "execution_count": null,
   "metadata": {},
   "outputs": [
    {
     "name": "stdout",
     "output_type": "stream",
     "text": [
      "Abheek\n"
     ]
    }
   ],
   "source": [
    "# protected var\n",
    "class Person:\n",
    "    def __init__(self,name,age,gender):\n",
    "        self._name = name # protected var\n",
    "        self._age = age # protected var\n",
    "        self.gender = gender\n",
    "\n",
    "class Employee(Person):\n",
    "    def __init__(self,name,age,gender):\n",
    "        super().__init__(name,age,gender)\n",
    "\n",
    "emp = Employee(\"Abheek\",19,\"Male\")\n",
    "print(emp._name) # prints it out\n",
    "\n",
    "\n"
   ]
  },
  {
   "cell_type": "code",
   "execution_count": null,
   "metadata": {},
   "outputs": [],
   "source": [
    "# encapsulation implemented through getters and setters\n",
    "class Person:\n",
    "    def __init__(self,name,age,gender):\n",
    "        self.__name = name\n",
    "        self.__age = age\n",
    "        self.__gender = gender\n",
    "\n",
    "    def get_name(self):\n",
    "        print(self.__name) # access in the class\n",
    "        \n",
    "    def set_name(self,new_name: str):\n",
    "        self.__name = new_name\n",
    "\n",
    "    def get_age(self):\n",
    "        print(self.__age)\n",
    "    def set_age(self,new_age: int):\n",
    "        if new_age > 0:\n",
    "            self.__age = new_age\n",
    "        else:\n",
    "            print(\"Age cannot be negative.\")\n",
    "\n",
    "    # property encapsulation\n",
    "\n",
    "    @property\n",
    "    def gender(self):\n",
    "        return self.__gender\n",
    "    @gender.setter\n",
    "    def gender(self,new_gender: str):\n",
    "        if new_gender.lower() in [\"male\",\"female\"]:\n",
    "            self.__gender = new_gender\n",
    "        else:\n",
    "            print(\"Invalid Gender.\")\n",
    "\n",
    "p3 = Person(\"Abheek\",19,\"Male\")\n",
    "\n",
    "\n"
   ]
  },
  {
   "cell_type": "code",
   "execution_count": 26,
   "metadata": {},
   "outputs": [
    {
     "data": {
      "text/plain": [
       "'Abheek'"
      ]
     },
     "execution_count": 26,
     "metadata": {},
     "output_type": "execute_result"
    }
   ],
   "source": [
    "p3.get_age()\n",
    "p3.get_name()\n"
   ]
  },
  {
   "cell_type": "code",
   "execution_count": null,
   "metadata": {},
   "outputs": [],
   "source": []
  },
  {
   "cell_type": "code",
   "execution_count": null,
   "metadata": {},
   "outputs": [],
   "source": []
  },
  {
   "cell_type": "code",
   "execution_count": null,
   "metadata": {},
   "outputs": [],
   "source": []
  },
  {
   "cell_type": "code",
   "execution_count": null,
   "metadata": {},
   "outputs": [],
   "source": []
  },
  {
   "cell_type": "code",
   "execution_count": null,
   "metadata": {},
   "outputs": [],
   "source": []
  },
  {
   "cell_type": "code",
   "execution_count": null,
   "metadata": {},
   "outputs": [],
   "source": []
  }
 ],
 "metadata": {
  "kernelspec": {
   "display_name": "Python 3",
   "language": "python",
   "name": "python3"
  },
  "language_info": {
   "codemirror_mode": {
    "name": "ipython",
    "version": 3
   },
   "file_extension": ".py",
   "mimetype": "text/x-python",
   "name": "python",
   "nbconvert_exporter": "python",
   "pygments_lexer": "ipython3",
   "version": "3.12.0"
  }
 },
 "nbformat": 4,
 "nbformat_minor": 2
}
