{
 "cells": [
  {
   "cell_type": "code",
   "execution_count": 4,
   "id": "ac15b699",
   "metadata": {},
   "outputs": [
    {
     "name": "stdout",
     "output_type": "stream",
     "text": [
      "23\n",
      "234\n",
      "5234\n",
      "k : 3\n"
     ]
    }
   ],
   "source": [
    "### Variable length arguments\n",
    "## positional and keywords arguments\n",
    "\n",
    "def print_numbers(*args,**kwargs):\n",
    "    # args - tuple of args\n",
    "    # kwargs - hash map of keyword args\n",
    "    # print(args,type(args))\n",
    "    # print(kwargs,type(kwargs))\n",
    "\n",
    "    for number in args:\n",
    "        print(number)\n",
    "    for x in kwargs:\n",
    "        print(x,\":\",kwargs[x])\n",
    "\n",
    "print_numbers(23,234,5234,k = 3)"
   ]
  }
 ],
 "metadata": {
  "kernelspec": {
   "display_name": "Python 3",
   "language": "python",
   "name": "python3"
  },
  "language_info": {
   "codemirror_mode": {
    "name": "ipython",
    "version": 3
   },
   "file_extension": ".py",
   "mimetype": "text/x-python",
   "name": "python",
   "nbconvert_exporter": "python",
   "pygments_lexer": "ipython3",
   "version": "3.12.0"
  }
 },
 "nbformat": 4,
 "nbformat_minor": 5
}
