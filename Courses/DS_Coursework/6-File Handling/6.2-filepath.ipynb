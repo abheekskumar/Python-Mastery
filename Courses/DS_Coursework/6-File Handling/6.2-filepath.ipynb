{
 "cells": [
  {
   "cell_type": "markdown",
   "metadata": {},
   "source": [
    "#### Working With File Paths\n",
    "When working with files in Python, handling file paths correctly is crucial to ensure your code works across different operating systems and environments. Python provides several modules and functions for working with file paths effectively."
   ]
  },
  {
   "cell_type": "code",
   "execution_count": null,
   "metadata": {},
   "outputs": [],
   "source": [
    "new_dir = \"package\"\n",
    "import os\n",
    "# os.mkdir(new_dir)\n"
   ]
  },
  {
   "cell_type": "code",
   "execution_count": 3,
   "metadata": {},
   "outputs": [
    {
     "name": "stdout",
     "output_type": "stream",
     "text": [
      "['6.1-fileoperation.ipynb', '6.2-filepath.ipynb', 'package']\n"
     ]
    }
   ],
   "source": [
    "items = os.listdir(\".\")\n",
    "print(items)"
   ]
  },
  {
   "cell_type": "code",
   "execution_count": null,
   "metadata": {},
   "outputs": [
    {
     "name": "stdout",
     "output_type": "stream",
     "text": [
      "d:\\dev\\Python\\DataScience_Course\\codespace\\6-File Handling\\[foldername]\\[filename]\n"
     ]
    }
   ],
   "source": [
    "# joining paths\n",
    "\n",
    "dir_name = \"[foldername]\"\n",
    "file_name =  \"[filename]\"\n",
    "\n",
    "cwd_name = os.getcwd()\n",
    "rel_path = os.path.join(dir_name,file_name)\n",
    "full_path = os.path.join(cwd_name,dir_name,file_name)\n",
    "print(full_path)"
   ]
  },
  {
   "cell_type": "code",
   "execution_count": null,
   "metadata": {},
   "outputs": [
    {
     "name": "stdout",
     "output_type": "stream",
     "text": [
      "The path example1.txt already exists.\n",
      "example1.txt if a file path.\n"
     ]
    }
   ],
   "source": [
    "path = \"example1.txt\" \n",
    "if os.path.exists(path):\n",
    "    print(f\"The path {path} already exists.\")\n",
    "else:\n",
    "    print(f\"the {path} doesn't exist\")\n",
    "    os.open(path, os.O_CREAT | os.O_WRONLY,0o644)\n",
    "\n",
    "\n",
    "if os.path.isfile(path):\n",
    "    print(f\"{path} is a file path.\")\n",
    "elif os.path.isdir(path):\n",
    "    print(f\"{path} is a directory path.\")\n",
    "else:\n",
    "    print(f\"{path} is neither a file nor a dir.\")"
   ]
  },
  {
   "cell_type": "code",
   "execution_count": 7,
   "metadata": {},
   "outputs": [
    {
     "name": "stdout",
     "output_type": "stream",
     "text": [
      "d:\\dev\\Python\\DataScience_Course\\codespace\\6-File Handling\\example.txt\n"
     ]
    }
   ],
   "source": [
    "## getting the absolute path\n",
    "\n",
    "relativePath = \"example.txt\" \n",
    "absolutePath = os.path.abspath(relativePath)\n",
    "print(absolutePath)"
   ]
  },
  {
   "cell_type": "code",
   "execution_count": null,
   "metadata": {},
   "outputs": [],
   "source": []
  },
  {
   "cell_type": "code",
   "execution_count": null,
   "metadata": {},
   "outputs": [],
   "source": []
  },
  {
   "cell_type": "code",
   "execution_count": null,
   "metadata": {},
   "outputs": [],
   "source": []
  },
  {
   "cell_type": "code",
   "execution_count": null,
   "metadata": {},
   "outputs": [],
   "source": []
  }
 ],
 "metadata": {
  "kernelspec": {
   "display_name": "Python 3",
   "language": "python",
   "name": "python3"
  },
  "language_info": {
   "codemirror_mode": {
    "name": "ipython",
    "version": 3
   },
   "file_extension": ".py",
   "mimetype": "text/x-python",
   "name": "python",
   "nbconvert_exporter": "python",
   "pygments_lexer": "ipython3",
   "version": "3.12.0"
  }
 },
 "nbformat": 4,
 "nbformat_minor": 2
}
